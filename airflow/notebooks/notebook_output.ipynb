{
 "cells": [
  {
   "cell_type": "code",
   "execution_count": null,
   "id": "f80f40df",
   "metadata": {
    "papermill": {
     "duration": null,
     "end_time": null,
     "exception": null,
     "start_time": null,
     "status": "completed"
    },
    "tags": [
     "injected-parameters"
    ]
   },
   "source": [
    "# Parameters\n",
    "param1 = 42\n",
    "param2 = \"hello\"\n"
   ],
   "outputs": []
  },
  {
   "cell_type": "code",
   "execution_count": null,
   "id": "initial_id",
   "metadata": {
    "collapsed": true,
    "jupyter": {
     "outputs_hidden": true
    },
    "papermill": {
     "duration": null,
     "end_time": null,
     "exception": null,
     "start_time": null,
     "status": "completed"
    },
    "tags": []
   },
   "source": [
    "# notebooks/example_notebook.ipynb\n",
    "\n",
    "# This is a Jupyter Notebook\n",
    "print(\"Hello from Jupyter Notebook!\")"
   ],
   "outputs": []
  }
 ],
 "metadata": {
  "kernelspec": {
   "display_name": "Python 3 (ipykernel)",
   "language": "python",
   "name": "python3"
  },
  "language_info": {
   "codemirror_mode": {
    "name": "ipython",
    "version": 3
   },
   "file_extension": ".py",
   "mimetype": "text/x-python",
   "name": "python",
   "nbconvert_exporter": "python",
   "pygments_lexer": "ipython3",
   "version": "3.11.6"
  },
  "papermill": {
   "default_parameters": {},
   "duration": 0.102731,
   "end_time": "2024-07-07T13:51:03.081324",
   "environment_variables": {},
   "exception": null,
   "input_path": "/opt/airflow/dags/notebooks/notebook.ipynb",
   "output_path": "/opt/airflow/dags/notebooks/notebook_output.ipynb",
   "parameters": {
    "param1": 42,
    "param2": "hello"
   },
   "start_time": "2024-07-07T13:51:02.978593",
   "version": "2.4.0"
  }
 },
 "nbformat": 4,
 "nbformat_minor": 5
}
